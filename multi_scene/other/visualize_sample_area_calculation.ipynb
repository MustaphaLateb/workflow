{
 "cells": [
  {
   "cell_type": "code",
   "execution_count": 1,
   "metadata": {},
   "outputs": [
    {
     "data": {
      "text/html": [
       "<style>.container { width:100% !important; }</style>"
      ],
      "text/plain": [
       "<IPython.core.display.HTML object>"
      ]
     },
     "metadata": {},
     "output_type": "display_data"
    }
   ],
   "source": [
    "%matplotlib inline\n",
    "from ipywidgets import interact, interactive, IntSlider, HBox, VBox, Tab, Layout, Box, Label\n",
    "import ipywidgets as widgets\n",
    "from IPython.display import display, HTML\n",
    "import matplotlib.pyplot as plt\n",
    "import numpy as np\n",
    "\n",
    "display(HTML(\"<style>.container { width:100% !important; }</style>\"))\n"
   ]
  },
  {
   "cell_type": "code",
   "execution_count": 2,
   "metadata": {},
   "outputs": [],
   "source": [
    "# Total number of samples drawn from that class\n",
    "a=IntSlider(value=50, description='Other')\n",
    "b=IntSlider(min=0, max=1000, value=400, description='Forest')\n",
    "c=IntSlider(value=75, description='Grassl')\n",
    "d=IntSlider(value=50, description='Urban')\n",
    "e=IntSlider(value=75, description='Pasture')\n",
    "f=IntSlider(value=50, description='Regrowth')\n",
    "g=IntSlider(value=50, description='Water')\n",
    "h=IntSlider(value=50, description='FP')\n",
    "i=IntSlider(value=50, description='FR')\n",
    "j=IntSlider(value=50, description='GR')\n",
    "k=IntSlider(value=50, description='LR')\n",
    "l=IntSlider(value=50, description='Unclass')\n",
    "m=IntSlider(value=50, description='Buffer')"
   ]
  },
  {
   "cell_type": "code",
   "execution_count": 3,
   "metadata": {},
   "outputs": [],
   "source": [
    "# Number of samples LABELLED AS A GIVEN CLASS (E.G DEFORESTATION)\n",
    "# i.e. total sum can't be higher than # of samples\n",
    "a2=IntSlider(value=7, description='Other')\n",
    "b2=IntSlider(min=0, max=1000, value=1, description='Forest')\n",
    "c2=IntSlider(value=0, description='Grassl')\n",
    "d2=IntSlider(value=0, description='Urban')\n",
    "e2=IntSlider(value=0, description='Pasture')\n",
    "f2=IntSlider(value=0, description='Regrowth')\n",
    "g2=IntSlider(value=0, description='Water')\n",
    "h2=IntSlider(value=31, description='FP')\n",
    "i2=IntSlider(value=10, description='FR')\n",
    "j2=IntSlider(value=1, description='GR')\n",
    "k2=IntSlider(value=1, description='LR')\n",
    "l2=IntSlider(value=17, description='Unclass')\n",
    "m2=IntSlider(value=11, description='Buffer')\n"
   ]
  },
  {
   "cell_type": "code",
   "execution_count": 4,
   "metadata": {},
   "outputs": [
    {
     "name": "stderr",
     "output_type": "stream",
     "text": [
      "Widget Javascript not detected.  It may not be installed or enabled properly.\n"
     ]
    },
    {
     "data": {
      "application/vnd.jupyter.widget-view+json": {
       "model_id": "0369b1277bc4474a90a3e36f34ae852b"
      }
     },
     "metadata": {},
     "output_type": "display_data"
    }
   ],
   "source": [
    "plt.style.use('ggplot')\n",
    "\n",
    "def plot_areas(a,b,c,d,e,f,g,h,i,j,k,l,m, a2,b2,c2,d2,e2,f2,g2,h2,i2,j2,k2,l2,m2):\n",
    "    ni = np.array((a,b,c,d,e,f,g,h,i,j,k,l,m))\n",
    "    pix = np.array((635555, 460268682, 15765829, 694635, 27223852, 6558022, 6998656, 642978, 222843, 213419, 386, 130391, 884436))\n",
    "    map_area = (pix * 30.0**2) / (100.0 **2)\n",
    "    total_area = map_area.sum()\n",
    "    wh = pix / pix.sum()\n",
    "    #\n",
    "    ref_count = np.array((a2,b2,c2,d2,e2,f2,g2,h2,i2,j2,k2,l2,m2))\n",
    "    print(\"Sum of reference labels is {}\".format(ref_count.sum()))\n",
    "\n",
    "    # Area proportion, standard error, area, 95% CI and margin of error\n",
    "    area_prop = (ref_count * wh) / ni\n",
    "    area_prop_se = np.sqrt(np.sum((wh * area_prop - area_prop**2) / (ni - 1)))\n",
    "    area_ha = area_prop.sum() * total_area\n",
    "    area_ci = area_prop_se * 1.96 * total_area\n",
    "    area_lower = area_ha - area_ci\n",
    "    area_upper = area_ha + area_ci\n",
    "    margin_error = area_ha / area_ci\n",
    "    \n",
    "    # Plot\n",
    "    plt.errorbar([1], area_ha, yerr=area_ci, fmt='o')\n",
    "    plt.axhline(0, color='black')\n",
    "    plt.ylim(-200000, 1000000)\n",
    "    plt.show()\n",
    "\n",
    "def reset_values(x):\n",
    "    \"\"\"Reset the interactive plots to inital values.\"\"\"\n",
    "    a.value = 50\n",
    "    b.value = 400\n",
    "    c.value = 75\n",
    "    d.value = 50\n",
    "    e.value = 75\n",
    "    f.value = 50\n",
    "    g.value = 50\n",
    "    h.value = 50\n",
    "    i.value = 50\n",
    "    j.value = 50\n",
    "    k.value = 50\n",
    "    l.value = 50\n",
    "    m.value = 50\n",
    "    \n",
    "    a2.value = 7\n",
    "    b2.value = 1\n",
    "    c2.value = 0\n",
    "    d2.value = 0\n",
    "    e2.value = 0\n",
    "    f2.value = 0\n",
    "    g2.value = 0\n",
    "    h2.value = 31\n",
    "    i2.value = 10\n",
    "    j2.value = 1\n",
    "    k2.value = 1\n",
    "    l2.value = 17\n",
    "    m2.value = 11\n",
    "    \n",
    "reset_button = widgets.Button(description = \"Reset\")\n",
    "reset_button.on_click(reset_values)\n",
    "\n",
    "\n",
    "plot = interactive(plot_areas, \n",
    "                   a=a,b=b,c=c,d=d,e=e,f=f,g=g,h=h,i=i,j=j,k=k,l=l,m=m,\n",
    "                   a2=a2,b2=b2,c2=c2,d2=d2,e2=e2,f2=f2,g2=g2,h2=h2,i2=i2,j2=j2,k2=k2,l2=l2,m2=m2)\n",
    "\n",
    "sample_box = VBox([Label(value=\"# samples drawn per strata\", layout=Layout(width='100%')), VBox(plot.children[0:13])])\n",
    "refcount_box = VBox([Label(value=\"# samples labeled as this class\", layout=Layout(width='100%')), VBox(plot.children[13:-1])])\n",
    "controlbox = HBox([sample_box, refcount_box])\n",
    "plotbox = VBox([plot.children[-1], reset_button], layout=Layout(width='100%'))\n",
    "iplot = HBox([controlbox, plotbox])\n",
    "\n",
    "display(iplot)"
   ]
  },
  {
   "cell_type": "code",
   "execution_count": 5,
   "metadata": {},
   "outputs": [
    {
     "data": {
      "text/plain": [
       "['children',\n",
       " '_view_module_version',\n",
       " '_model_module',\n",
       " '_dom_classes',\n",
       " 'msg_throttle',\n",
       " 'box_style',\n",
       " '_model_name',\n",
       " '_view_module',\n",
       " '_model_module_version',\n",
       " '_view_name',\n",
       " 'layout']"
      ]
     },
     "execution_count": 5,
     "metadata": {},
     "output_type": "execute_result"
    }
   ],
   "source": [
    "refcount_box.keys"
   ]
  },
  {
   "cell_type": "code",
   "execution_count": null,
   "metadata": {
    "collapsed": true
   },
   "outputs": [],
   "source": []
  }
 ],
 "metadata": {
  "kernelspec": {
   "display_name": "Python 3",
   "language": "python",
   "name": "python3"
  },
  "language_info": {
   "codemirror_mode": {
    "name": "ipython",
    "version": 3
   },
   "file_extension": ".py",
   "mimetype": "text/x-python",
   "name": "python",
   "nbconvert_exporter": "python",
   "pygments_lexer": "ipython3",
   "version": "3.5.2"
  }
 },
 "nbformat": 4,
 "nbformat_minor": 2
}
